{
  "nbformat": 4,
  "nbformat_minor": 0,
  "metadata": {
    "colab": {
      "name": "Train_NER_Container_Number.ipynb",
      "provenance": [],
      "authorship_tag": "ABX9TyNJ+bmtzlzB0kY3Zt8wKu+5",
      "include_colab_link": true
    },
    "kernelspec": {
      "name": "python3",
      "display_name": "Python 3"
    }
  },
  "cells": [
    {
      "cell_type": "markdown",
      "metadata": {
        "id": "view-in-github",
        "colab_type": "text"
      },
      "source": [
        "<a href=\"https://colab.research.google.com/github/Alimustoofaa/Train-NER-Container-Number-Doccano-Spacy/blob/main/train.ipynb\" target=\"_parent\"><img src=\"https://colab.research.google.com/assets/colab-badge.svg\" alt=\"Open In Colab\"/></a>"
      ]
    },
    {
      "cell_type": "code",
      "metadata": {
        "id": "K_UDy7nkv70u",
        "colab": {
          "base_uri": "https://localhost:8080/"
        },
        "outputId": "b16ecc62-051d-41b9-bf4a-1a2074f62ef4"
      },
      "source": [
        "!pip install spacy"
      ],
      "execution_count": 1,
      "outputs": [
        {
          "output_type": "stream",
          "text": [
            "Requirement already satisfied: spacy in /usr/local/lib/python3.6/dist-packages (2.2.4)\n",
            "Requirement already satisfied: preshed<3.1.0,>=3.0.2 in /usr/local/lib/python3.6/dist-packages (from spacy) (3.0.5)\n",
            "Requirement already satisfied: requests<3.0.0,>=2.13.0 in /usr/local/lib/python3.6/dist-packages (from spacy) (2.23.0)\n",
            "Requirement already satisfied: thinc==7.4.0 in /usr/local/lib/python3.6/dist-packages (from spacy) (7.4.0)\n",
            "Requirement already satisfied: tqdm<5.0.0,>=4.38.0 in /usr/local/lib/python3.6/dist-packages (from spacy) (4.41.1)\n",
            "Requirement already satisfied: blis<0.5.0,>=0.4.0 in /usr/local/lib/python3.6/dist-packages (from spacy) (0.4.1)\n",
            "Requirement already satisfied: numpy>=1.15.0 in /usr/local/lib/python3.6/dist-packages (from spacy) (1.18.5)\n",
            "Requirement already satisfied: srsly<1.1.0,>=1.0.2 in /usr/local/lib/python3.6/dist-packages (from spacy) (1.0.5)\n",
            "Requirement already satisfied: wasabi<1.1.0,>=0.4.0 in /usr/local/lib/python3.6/dist-packages (from spacy) (0.8.0)\n",
            "Requirement already satisfied: plac<1.2.0,>=0.9.6 in /usr/local/lib/python3.6/dist-packages (from spacy) (1.1.3)\n",
            "Requirement already satisfied: murmurhash<1.1.0,>=0.28.0 in /usr/local/lib/python3.6/dist-packages (from spacy) (1.0.5)\n",
            "Requirement already satisfied: catalogue<1.1.0,>=0.0.7 in /usr/local/lib/python3.6/dist-packages (from spacy) (1.0.0)\n",
            "Requirement already satisfied: setuptools in /usr/local/lib/python3.6/dist-packages (from spacy) (50.3.2)\n",
            "Requirement already satisfied: cymem<2.1.0,>=2.0.2 in /usr/local/lib/python3.6/dist-packages (from spacy) (2.0.5)\n",
            "Requirement already satisfied: certifi>=2017.4.17 in /usr/local/lib/python3.6/dist-packages (from requests<3.0.0,>=2.13.0->spacy) (2020.12.5)\n",
            "Requirement already satisfied: urllib3!=1.25.0,!=1.25.1,<1.26,>=1.21.1 in /usr/local/lib/python3.6/dist-packages (from requests<3.0.0,>=2.13.0->spacy) (1.24.3)\n",
            "Requirement already satisfied: idna<3,>=2.5 in /usr/local/lib/python3.6/dist-packages (from requests<3.0.0,>=2.13.0->spacy) (2.10)\n",
            "Requirement already satisfied: chardet<4,>=3.0.2 in /usr/local/lib/python3.6/dist-packages (from requests<3.0.0,>=2.13.0->spacy) (3.0.4)\n",
            "Requirement already satisfied: importlib-metadata>=0.20; python_version < \"3.8\" in /usr/local/lib/python3.6/dist-packages (from catalogue<1.1.0,>=0.0.7->spacy) (3.1.1)\n",
            "Requirement already satisfied: zipp>=0.5 in /usr/local/lib/python3.6/dist-packages (from importlib-metadata>=0.20; python_version < \"3.8\"->catalogue<1.1.0,>=0.0.7->spacy) (3.4.0)\n"
          ],
          "name": "stdout"
        }
      ]
    },
    {
      "cell_type": "code",
      "metadata": {
        "id": "9aLJi04brfB8"
      },
      "source": [
        "import json\n",
        "\n",
        "# spacy library\n",
        "import spacy\n",
        "import random\n",
        "from spacy.util import minibatch, compounding\n",
        "from spacy import load, displacy"
      ],
      "execution_count": 1,
      "outputs": []
    },
    {
      "cell_type": "code",
      "metadata": {
        "id": "c7M3OroArv8M"
      },
      "source": [
        "def conversion(path):\n",
        "  doc = open(path, \"r\")\n",
        "  train_data = []\n",
        "  try:\n",
        "    lines = doc.readlines()\n",
        "    for texts in lines:\n",
        "      texts = json.loads(texts)\n",
        "      text_content = texts['text']\n",
        "      text_entities = texts['labels']\n",
        "      entity_arr = []\n",
        "      for entity in text_entities:\n",
        "        entity = tuple(entity)\n",
        "        entity_arr.append(entity)\n",
        "      data = (text_content, {'entities': entity_arr})\n",
        "      train_data.append(data)\n",
        "  finally:\n",
        "    doc.close()\n",
        "  return train_data"
      ],
      "execution_count": 2,
      "outputs": []
    },
    {
      "cell_type": "code",
      "metadata": {
        "id": "NlpZhreBr1Od"
      },
      "source": [
        "# Conversion json1\n",
        "TRAIN_DATA = conversion('datasets.json1')"
      ],
      "execution_count": 3,
      "outputs": []
    },
    {
      "cell_type": "code",
      "metadata": {
        "id": "LxQTUldiur9x"
      },
      "source": [
        "# Get label\n",
        "label_arr = []\n",
        "for data in TRAIN_DATA:\n",
        "  if len(data) == 2:\n",
        "    entities = data[1]['entities']\n",
        "    for entity in entities:\n",
        "      label_arr.append(entity[2])"
      ],
      "execution_count": 4,
      "outputs": []
    },
    {
      "cell_type": "code",
      "metadata": {
        "id": "gMC-Je59v_uY",
        "colab": {
          "base_uri": "https://localhost:8080/"
        },
        "outputId": "d83c5721-7637-4ebe-ff79-52533dc44074"
      },
      "source": [
        "nlp=spacy.blank(\"id\")\n",
        "nlp.add_pipe(nlp.create_pipe('ner'))\n",
        "nlp.begin_training()"
      ],
      "execution_count": 5,
      "outputs": [
        {
          "output_type": "execute_result",
          "data": {
            "text/plain": [
              "<thinc.neural.optimizers.Optimizer at 0x7f043a3b6400>"
            ]
          },
          "metadata": {
            "tags": []
          },
          "execution_count": 5
        }
      ]
    },
    {
      "cell_type": "code",
      "metadata": {
        "id": "6zjql3aQwhP_"
      },
      "source": [
        "ner=nlp.get_pipe(\"ner\")\n",
        "pipe_exceptions = [\"ner\", \"trf_wordpiecer\", \"trf_tok2vec\"]\n",
        "unaffected_pipes = [pipe for pipe in nlp.pipe_names if pipe not in pipe_exceptions]"
      ],
      "execution_count": null,
      "outputs": []
    },
    {
      "cell_type": "code",
      "metadata": {
        "id": "2QIvUQCs0vYB"
      },
      "source": [
        "for label in label_arr:\n",
        "  ner.add_label(label)"
      ],
      "execution_count": 10,
      "outputs": []
    },
    {
      "cell_type": "code",
      "metadata": {
        "id": "8HREz266lkim",
        "colab": {
          "base_uri": "https://localhost:8080/"
        },
        "outputId": "d116191b-ad32-4b00-f510-49f94786ec61"
      },
      "source": [
        "with nlp.disable_pipes(*unaffected_pipes):\n",
        "  for iteration in range(100):\n",
        "    random.shuffle(TRAIN_DATA)\n",
        "    batches = minibatch(TRAIN_DATA, size=compounding(4.0, 32.0, 1.001))\n",
        "    loss = {}\n",
        "    for batch in batches:\n",
        "      text, anotations = zip(*batch)\n",
        "      nlp.update( text, anotations, drop=0.5, losses=loss)\n",
        "    print(f'Losses at iteration {iteration}, {loss}')"
      ],
      "execution_count": 11,
      "outputs": [
        {
          "output_type": "stream",
          "text": [
            "Losses at iteration 0, {'ner': 510.7381180524826}\n",
            "Losses at iteration 1, {'ner': 297.28984249476343}\n",
            "Losses at iteration 2, {'ner': 308.16749531030655}\n",
            "Losses at iteration 3, {'ner': 277.7352916970849}\n",
            "Losses at iteration 4, {'ner': 275.99991785921156}\n",
            "Losses at iteration 5, {'ner': 283.9891903405078}\n",
            "Losses at iteration 6, {'ner': 268.1364307250815}\n",
            "Losses at iteration 7, {'ner': 262.80059533362646}\n",
            "Losses at iteration 8, {'ner': 267.19793466823467}\n",
            "Losses at iteration 9, {'ner': 250.72067038999103}\n",
            "Losses at iteration 10, {'ner': 258.7851408908573}\n",
            "Losses at iteration 11, {'ner': 247.61882581259124}\n",
            "Losses at iteration 12, {'ner': 244.54806064908604}\n",
            "Losses at iteration 13, {'ner': 245.03285707471832}\n",
            "Losses at iteration 14, {'ner': 247.02332231648325}\n",
            "Losses at iteration 15, {'ner': 240.13894300106276}\n",
            "Losses at iteration 16, {'ner': 234.6988903524059}\n",
            "Losses at iteration 17, {'ner': 228.6629315328273}\n",
            "Losses at iteration 18, {'ner': 223.59973881796296}\n",
            "Losses at iteration 19, {'ner': 211.485611899105}\n",
            "Losses at iteration 20, {'ner': 216.526761594769}\n",
            "Losses at iteration 21, {'ner': 218.17553623142157}\n",
            "Losses at iteration 22, {'ner': 216.9173734004815}\n",
            "Losses at iteration 23, {'ner': 225.68801762941737}\n",
            "Losses at iteration 24, {'ner': 227.65109489693805}\n",
            "Losses at iteration 25, {'ner': 232.21722486615803}\n",
            "Losses at iteration 26, {'ner': 222.15575784516983}\n",
            "Losses at iteration 27, {'ner': 219.84008370782865}\n",
            "Losses at iteration 28, {'ner': 225.1631564802574}\n",
            "Losses at iteration 29, {'ner': 221.63756813740432}\n",
            "Losses at iteration 30, {'ner': 204.09453506401}\n",
            "Losses at iteration 31, {'ner': 220.9341064134455}\n",
            "Losses at iteration 32, {'ner': 230.99696834067186}\n",
            "Losses at iteration 33, {'ner': 236.89823558438545}\n",
            "Losses at iteration 34, {'ner': 219.19363463287755}\n",
            "Losses at iteration 35, {'ner': 217.94283015668736}\n",
            "Losses at iteration 36, {'ner': 221.71158733260202}\n",
            "Losses at iteration 37, {'ner': 205.329687675662}\n",
            "Losses at iteration 38, {'ner': 233.05295035243722}\n",
            "Losses at iteration 39, {'ner': 225.31818545378604}\n",
            "Losses at iteration 40, {'ner': 216.08664482831955}\n",
            "Losses at iteration 41, {'ner': 220.52518582714072}\n",
            "Losses at iteration 42, {'ner': 238.2870750427246}\n",
            "Losses at iteration 43, {'ner': 211.7461275220915}\n",
            "Losses at iteration 44, {'ner': 229.7133749248181}\n",
            "Losses at iteration 45, {'ner': 216.90182991357665}\n",
            "Losses at iteration 46, {'ner': 214.65644778404433}\n",
            "Losses at iteration 47, {'ner': 234.64309537410736}\n",
            "Losses at iteration 48, {'ner': 235.23204608173924}\n",
            "Losses at iteration 49, {'ner': 214.71896720305085}\n",
            "Losses at iteration 50, {'ner': 219.02414166927338}\n",
            "Losses at iteration 51, {'ner': 238.97033059597175}\n",
            "Losses at iteration 52, {'ner': 228.6119753123794}\n",
            "Losses at iteration 53, {'ner': 205.93437451124203}\n",
            "Losses at iteration 54, {'ner': 219.24934929863704}\n",
            "Losses at iteration 55, {'ner': 209.21800331588233}\n",
            "Losses at iteration 56, {'ner': 232.48884004354477}\n",
            "Losses at iteration 57, {'ner': 219.80412036180496}\n",
            "Losses at iteration 58, {'ner': 215.9009935213697}\n",
            "Losses at iteration 59, {'ner': 215.78772896569205}\n",
            "Losses at iteration 60, {'ner': 234.6735863685608}\n",
            "Losses at iteration 61, {'ner': 213.5770869854195}\n",
            "Losses at iteration 62, {'ner': 232.74420177937012}\n",
            "Losses at iteration 63, {'ner': 223.6234765648842}\n",
            "Losses at iteration 64, {'ner': 224.37321418523788}\n",
            "Losses at iteration 65, {'ner': 238.64635515213013}\n",
            "Losses at iteration 66, {'ner': 219.25581043958664}\n",
            "Losses at iteration 67, {'ner': 219.91857612133026}\n",
            "Losses at iteration 68, {'ner': 228.4049220085144}\n",
            "Losses at iteration 69, {'ner': 218.6517895758152}\n",
            "Losses at iteration 70, {'ner': 220.95154547691374}\n",
            "Losses at iteration 71, {'ner': 227.14299521051407}\n",
            "Losses at iteration 72, {'ner': 220.28133535385462}\n",
            "Losses at iteration 73, {'ner': 222.75004512081583}\n",
            "Losses at iteration 74, {'ner': 231.88126826286316}\n",
            "Losses at iteration 75, {'ner': 221.74661803245564}\n",
            "Losses at iteration 76, {'ner': 208.86865597963333}\n",
            "Losses at iteration 77, {'ner': 241.25818371772766}\n",
            "Losses at iteration 78, {'ner': 211.4602468609824}\n",
            "Losses at iteration 79, {'ner': 223.48460572957993}\n",
            "Losses at iteration 80, {'ner': 222.10930848121643}\n",
            "Losses at iteration 81, {'ner': 223.85009342432022}\n",
            "Losses at iteration 82, {'ner': 236.5012195110321}\n",
            "Losses at iteration 83, {'ner': 212.4666724205017}\n",
            "Losses at iteration 84, {'ner': 226.76614779233932}\n",
            "Losses at iteration 85, {'ner': 213.51186138391495}\n",
            "Losses at iteration 86, {'ner': 222.25280272960663}\n",
            "Losses at iteration 87, {'ner': 235.35068924241932}\n",
            "Losses at iteration 88, {'ner': 214.1792774796486}\n",
            "Losses at iteration 89, {'ner': 220.37357765436172}\n",
            "Losses at iteration 90, {'ner': 222.9595090150838}\n",
            "Losses at iteration 91, {'ner': 214.9834394753023}\n",
            "Losses at iteration 92, {'ner': 225.27843189459008}\n",
            "Losses at iteration 93, {'ner': 224.95259231328967}\n",
            "Losses at iteration 94, {'ner': 220.82151126861572}\n",
            "Losses at iteration 95, {'ner': 224.78405217742628}\n",
            "Losses at iteration 96, {'ner': 211.53318190574646}\n",
            "Losses at iteration 97, {'ner': 214.48032328486443}\n",
            "Losses at iteration 98, {'ner': 219.33361166715622}\n",
            "Losses at iteration 99, {'ner': 228.08778023719788}\n"
          ],
          "name": "stdout"
        }
      ]
    },
    {
      "cell_type": "code",
      "metadata": {
        "id": "qXe8NYuDmXJO",
        "colab": {
          "base_uri": "https://localhost:8080/"
        },
        "outputId": "631f2e0f-e9a5-44c4-cd3f-6c6b29521dba"
      },
      "source": [
        "# test \n",
        "doc = nlp(\"GATE IN  TCLU  jancuk TAL 45G1 3N15 928181 MA755 1L536 H L9US 508 B4IG TI  DYG III L3\")\n",
        "print(\"Entities\", [(ent.text, ent.label_) for ent in doc.ents])\n",
        "print(\"Container Number :\", ''.join([(i.text) for i in doc.ents]))"
      ],
      "execution_count": 12,
      "outputs": [
        {
          "output_type": "stream",
          "text": [
            "Entities [('TCLU', 'owner'), ('928181', 'digit')]\n",
            "Container Number : TCLU928181\n"
          ],
          "name": "stdout"
        }
      ]
    },
    {
      "cell_type": "code",
      "metadata": {
        "id": "fE93iTWKNo6E",
        "colab": {
          "base_uri": "https://localhost:8080/",
          "height": 51
        },
        "outputId": "b9595fbc-4bc9-4177-8958-f55d38f3f492"
      },
      "source": [
        "spacy.displacy.render(doc, style=\"ent\", jupyter=True, options={'distance': 90})"
      ],
      "execution_count": 13,
      "outputs": [
        {
          "output_type": "display_data",
          "data": {
            "text/html": [
              "<span class=\"tex2jax_ignore\"><div class=\"entities\" style=\"line-height: 2.5; direction: ltr\">GATE IN  \n",
              "<mark class=\"entity\" style=\"background: #ddd; padding: 0.45em 0.6em; margin: 0 0.25em; line-height: 1; border-radius: 0.35em;\">\n",
              "    TCLU\n",
              "    <span style=\"font-size: 0.8em; font-weight: bold; line-height: 1; border-radius: 0.35em; text-transform: uppercase; vertical-align: middle; margin-left: 0.5rem\">owner</span>\n",
              "</mark>\n",
              "  jancuk TAL 45G1 3N15 \n",
              "<mark class=\"entity\" style=\"background: #ddd; padding: 0.45em 0.6em; margin: 0 0.25em; line-height: 1; border-radius: 0.35em;\">\n",
              "    928181\n",
              "    <span style=\"font-size: 0.8em; font-weight: bold; line-height: 1; border-radius: 0.35em; text-transform: uppercase; vertical-align: middle; margin-left: 0.5rem\">digit</span>\n",
              "</mark>\n",
              " MA755 1L536 H L9US 508 B4IG TI  DYG III L3</div></span>"
            ],
            "text/plain": [
              "<IPython.core.display.HTML object>"
            ]
          },
          "metadata": {
            "tags": []
          }
        }
      ]
    },
    {
      "cell_type": "code",
      "metadata": {
        "colab": {
          "base_uri": "https://localhost:8080/"
        },
        "id": "eH1RPhy1DUGl",
        "outputId": "84df866f-6b37-4c55-9b5c-fc358497cfd5"
      },
      "source": [
        "# save model\n",
        "from pathlib import Path\n",
        "from datetime import datetime\n",
        "\n",
        "datetime_now = datetime.now()\n",
        "str_datetime = datetime_now.strftime(\"%m-%d-%Y %H:%M:%S\")\n",
        "output_dir = Path(f'nlp_container_number_checkpoint_{str_datetime}')\n",
        "nlp.to_disk(output_dir)\n",
        "print(\"Saved model to\", output_dir)"
      ],
      "execution_count": 14,
      "outputs": [
        {
          "output_type": "stream",
          "text": [
            "Saved model to nlp_container_number_checkpoint_12-17-2020 14:27:50\n"
          ],
          "name": "stdout"
        }
      ]
    },
    {
      "cell_type": "code",
      "metadata": {
        "colab": {
          "base_uri": "https://localhost:8080/"
        },
        "id": "XuaoLnJOGeOL",
        "outputId": "0a2893f9-97a7-452f-d25f-de6e6c7c6492"
      },
      "source": [
        "# load existing model \n",
        "# output_dir = 'nlp_id_checkpoint_2020_12_15'\n",
        "print(\"Loading from\", output_dir)\n",
        "nlp_updated = spacy.load(output_dir)"
      ],
      "execution_count": 15,
      "outputs": [
        {
          "output_type": "stream",
          "text": [
            "Loading from nlp_container_number_checkpoint_12-17-2020 14:27:50\n"
          ],
          "name": "stdout"
        }
      ]
    },
    {
      "cell_type": "code",
      "metadata": {
        "colab": {
          "base_uri": "https://localhost:8080/"
        },
        "id": "SJ62lp9AG003",
        "outputId": "28356ce2-04e7-40c9-ae2f-0cc369dd7215"
      },
      "source": [
        "doc = nlp_updated(\"GATE IN  TCLU TAL 45G1 3N15 928181 MA755 1L536 H L9US 508 B4IG TI  DYG III L3\")\n",
        "print(\"Entities\", [(ent.text, ent.label_) for ent in doc.ents])\n",
        "print(\"Container Number :\", ''.join([(i.text) for i in doc.ents]))"
      ],
      "execution_count": 16,
      "outputs": [
        {
          "output_type": "stream",
          "text": [
            "Entities [('TCLU', 'owner'), ('928181', 'digit')]\n",
            "Container Number : TCLU928181\n"
          ],
          "name": "stdout"
        }
      ]
    }
  ]
}